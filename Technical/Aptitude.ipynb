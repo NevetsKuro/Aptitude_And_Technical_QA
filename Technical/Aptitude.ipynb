{
 "cells": [
  {
   "cell_type": "code",
   "execution_count": 13,
   "metadata": {},
   "outputs": [],
   "source": [
    "def getproduct(ar,ignore):\n",
    "    prod = 1\n",
    "    if(ar[-1]==ignore):\n",
    "        return -1\n",
    "    for x in ar[::-1]:\n",
    "        if(x==ignore):\n",
    "            return prod\n",
    "        else:\n",
    "            prod = prod * x\n",
    "    return prod"
   ]
  },
  {
   "cell_type": "code",
   "execution_count": 16,
   "metadata": {},
   "outputs": [
    {
     "data": {
      "text/plain": [
       "9"
      ]
     },
     "execution_count": 16,
     "metadata": {},
     "output_type": "execute_result"
    }
   ],
   "source": [
    "getproduct([7,9],7)"
   ]
  },
  {
   "cell_type": "code",
   "execution_count": 21,
   "metadata": {},
   "outputs": [],
   "source": [
    "def find_product(num1,num2,num3):\n",
    "    product=0\n",
    "    #write your logic here\n",
    "    product=1\n",
    "    ar = [num1,num2,num3]\n",
    "    if(ar[-1]==7):\n",
    "        return -1\n",
    "    for x in ar[::-1]:\n",
    "        if(x==7):\n",
    "            return product\n",
    "        else:\n",
    "            product = product * x\n",
    "    return product"
   ]
  },
  {
   "cell_type": "code",
   "execution_count": 27,
   "metadata": {},
   "outputs": [
    {
     "data": {
      "text/plain": [
       "2"
      ]
     },
     "execution_count": 27,
     "metadata": {},
     "output_type": "execute_result"
    }
   ],
   "source": [
    "find_product(9,7,2)"
   ]
  },
  {
   "cell_type": "markdown",
   "metadata": {},
   "source": [
    "You have x no. of 5 rupee coins and y no. of 1 rupee coins. You want to purchase an item for amount z. The shopkeeper wants you to provide exact change. You want to pay using minimum number of coins. How many 5 rupee coins and 1 rupee coins will you use? If exact change is not possible then display -1."
   ]
  },
  {
   "cell_type": "code",
   "execution_count": 87,
   "metadata": {},
   "outputs": [],
   "source": [
    "def make_amount(rupees_to_make,no_of_five,no_of_one):\n",
    "    five_needed=0\n",
    "    one_needed=0\n",
    "    if((no_of_five*5 + no_of_one*1)>=rupees_to_make):\n",
    "        five_needed = rupees_to_make//5\n",
    "        if(five_needed>no_of_five):\n",
    "            five_needed=no_of_five\n",
    "        rupees_to_make = rupees_to_make - (5*five_needed)\n",
    "        one_needed = rupees_to_make\n",
    "        if(one_needed>no_of_one):\n",
    "            one_needed=no_of_one\n",
    "        rupees_to_make = rupees_to_make - (1*one_needed)\n",
    "        if(rupees_to_make == 0):\n",
    "            print(\"No. of Five needed :\", five_needed)\n",
    "            print(\"No. of One needed  :\", one_needed)\n",
    "        else:\n",
    "            print(\"-1\")\n",
    "    else:\n",
    "        print(\"-1\")"
   ]
  },
  {
   "cell_type": "code",
   "execution_count": 88,
   "metadata": {},
   "outputs": [
    {
     "name": "stdout",
     "output_type": "stream",
     "text": [
      "-1\n"
     ]
    }
   ],
   "source": [
    "make_amount(105,19,3)"
   ]
  },
  {
   "cell_type": "code",
   "execution_count": 86,
   "metadata": {},
   "outputs": [
    {
     "data": {
      "text/plain": [
       "98"
      ]
     },
     "execution_count": 86,
     "metadata": {},
     "output_type": "execute_result"
    }
   ],
   "source": [
    "19*5+1*3"
   ]
  },
  {
   "cell_type": "code",
   "execution_count": 98,
   "metadata": {},
   "outputs": [],
   "source": [
    "def find_new_salary(current_salary,job_level):\n",
    "    # write your logic here\n",
    "    perc = [0.15,0.07,0.05]\n",
    "    if(job_level in [3,4,5]):\n",
    "        new_salary = current_salary + (current_salary * perc[job_level-3])\n",
    "        return int(new_salary)\n",
    "    else:\n",
    "        new_salary = current_salary\n",
    "        return int(new_salary)\n",
    "    \n",
    "print(find_new_salary(15000,5))"
   ]
  },
  {
   "cell_type": "markdown",
   "metadata": {},
   "source": [
    "Write a Python program to calculate and display the interest on a loan amount (Rupees) using the formula:\u000b",
    "\n",
    "interest=(principal * rate of interest * time)/100\n",
    "\n",
    "Test your code by using the given sample inputs."
   ]
  },
  {
   "cell_type": "code",
   "execution_count": 1,
   "metadata": {},
   "outputs": [
    {
     "name": "stdout",
     "output_type": "stream",
     "text": [
      "15615.6\n"
     ]
    }
   ],
   "source": [
    "principal=7800\n",
    "rate_of_interest=7.7\n",
    "time=26\n",
    "interest=0\n",
    "\n",
    "#Start writing your code from here\n",
    "#Populate the variable: interest\n",
    "interest = (principal * rate_of_interest * time)/100\n",
    "\n",
    "#Do not modify the below print statement for verification to work\n",
    "print(interest)"
   ]
  },
  {
   "cell_type": "markdown",
   "metadata": {},
   "source": [
    "A traveler on a visit to India is in need of some Indian Rupees (INR) but he has money belonging to another currency. He wants to know how much money he should provide in the currency he has, to get the specified amount in INR.\n",
    "\n",
    "Write a python program to implement a currency calculator which accepts the amount needed in INR and the name of the currency which the traveler has. The program should identify and display the amount the traveler should provide in the currency he has, to get the specified amount in INR.\n",
    "\n",
    "Note: Use the forex information provided in the table below for the calculation. Consider that only the currency names mentioned in the table are valid. For any invalid currency name, display -1.\n",
    "\n",
    "Currency\tEquivalent of 1.00 INR\n",
    "Euro\t0.01417\n",
    "British Pound\t0.0100\n",
    "Australian Dollar\t0.02140\n",
    "Canadian Dollar\t0.02027"
   ]
  },
  {
   "cell_type": "code",
   "execution_count": 3,
   "metadata": {},
   "outputs": [
    {
     "name": "stdout",
     "output_type": "stream",
     "text": [
      "28.34\n"
     ]
    }
   ],
   "source": [
    "def convert_currency(amount_needed_inr,current_currency_name):\n",
    "    current_currency_amount=0\n",
    "    #write your logic here\n",
    "    if(current_currency_name == \"Euro\"):\n",
    "        current_currency_amount = amount_needed_inr * 0.01417\n",
    "    elif(current_currency_name == \"British Pound\"):\n",
    "        current_currency_amount = amount_needed_inr * 0.0100\n",
    "    elif(current_currency_name == \"Australian Dollar\"):\n",
    "        current_currency_amount = amount_needed_inr * 0.02140\n",
    "    elif(current_currency_name == \"Canadian Dollar\"):\n",
    "        current_currency_amount = amount_needed_inr * 0.02027\n",
    "    else:\n",
    "        current_currency_amount = -1\n",
    "    return current_currency_amount\n",
    "\n",
    "#Provide different values for amount_needed_inr,current_currency_name and test your program\n",
    "currency_needed=convert_currency(2000,\"Euro\")\n",
    "if(currency_needed!= -1):\n",
    "    print(currency_needed )\n",
    "else:\n",
    "    print(\"Invalid currency name\")"
   ]
  },
  {
   "cell_type": "markdown",
   "metadata": {},
   "source": [
    "A vegetarian combo costs Rs.120 per plate and a non-vegetarian combo costs Rs.150 per plate. Their non-veg combo is really famous that they get more orders for their non-vegetarian combo than the vegetarian combo.\n",
    "Apart from the cost per plate of food, customers are also charged for home delivery based on the distance in kms from the restaurant to the delivery point. The delivery charges are as mentioned below:\n",
    "Distance in kms\tDelivery charge in Rs per km\n",
    "For first 3kms\t0\n",
    "For next 3kms\t3\n",
    "For the remaining\t6\n",
    "\n",
    "Given the type of food, quantity (no. of plates) and the distance in kms from the restaurant to the delivery point, write a python program to calculate the final bill amount to be paid by a customer.\n",
    "The below information must be used to check the validity of the data provided by the customer: \n",
    "Type of food must be ‘V’ for vegetarian and ‘N’ for non-vegetarian.\n",
    "Distance in kms must be greater than 0.\n",
    "Quantity ordered should be minimum 1."
   ]
  },
  {
   "cell_type": "code",
   "execution_count": 5,
   "metadata": {},
   "outputs": [
    {
     "name": "stdout",
     "output_type": "stream",
     "text": [
      "165\n"
     ]
    }
   ],
   "source": [
    "#PF-Assgn-19\n",
    "\n",
    "def calculate_bill_amount(food_type,quantity_ordered,distance_in_kms):\n",
    "    bill_amount=0\n",
    "    #write your logic here\n",
    "    if(quantity_ordered > 0 and distance_in_kms >0):\n",
    "        if(food_type=='N'):\n",
    "            bill_amount += 150\n",
    "        elif(food_type=='V'):\n",
    "            bill_amount += 120\n",
    "        else:\n",
    "            return -1\n",
    "        \n",
    "        bill_amount *= quantity_ordered\n",
    "        if(distance_in_kms>6):\n",
    "            bill_amount += (6 * (distance_in_kms-6))\n",
    "            bill_amount += (3 * 3)\n",
    "        elif(distance_in_kms>3):\n",
    "            bill_amount += (3 * distance_in_kms-3)\n",
    "        return bill_amount\n",
    "    else:            \n",
    "        return -1\n",
    "\n",
    "#Provide different values for food_type,quantity_ordered,distance_in_kms and test your program\n",
    "bill_amount=calculate_bill_amount(\"N\",1,7)\n",
    "print(bill_amount)"
   ]
  },
  {
   "cell_type": "markdown",
   "metadata": {},
   "source": [
    "The Metro Bank provides various types of loans such as car loans, business loans and house loans to its account holders. Write a python program to implement the following requirements:\n",
    "\n",
    "1. Initialize the following variables with appropriate input values:account_number, account_balance, salary, loan_type, loan_amount_expected and customer_emi_expected.\n",
    "2. The account number should be of 4 digits and its first digit should be 1.\n",
    "3. The customer should have a minimum balance of Rupees 1 Lakh in the account.\n",
    "4. If the above rules are valid, determine the eligible loan amount and the EMI that the bank can provide to its customers based on their salary and the loan type they expect to avail.\n",
    "5. The bank would provide the loan, only if the loan amount and the number of EMI’s requested by the customer is less than or equal to the loan amount and the number of EMI’s decided by the bank respectively.\n",
    "6. Display appropriate error messages for all invalid data. If all the business rules are satisfied ,then display account number, eligible and requested loan amount and EMI’s.\n",
    "7. Test your code by providing different values for the input variables.\n",
    "\n",
    "Salary, Loan type,\tEligible loan amount,\tNo. of EMI’s required to repay\n",
    "> 25000\tCar\t500000\t36\n",
    "\n",
    "> 50000\tHouse\t6000000\t60\n",
    "\n",
    "> 75000\tBusiness\t7500000\t84"
   ]
  },
  {
   "cell_type": "code",
   "execution_count": 12,
   "metadata": {},
   "outputs": [
    {
     "name": "stdout",
     "output_type": "stream",
     "text": [
      "The customer is not eligible for the loan\n"
     ]
    },
    {
     "data": {
      "text/plain": [
       "-1"
      ]
     },
     "execution_count": 12,
     "metadata": {},
     "output_type": "execute_result"
    }
   ],
   "source": [
    "#PF-Assgn-20\n",
    "\n",
    "def calculate_loan(account_number,salary,account_balance,loan_type,loan_amount_expected,customer_emi_expected):\n",
    "    eligible_loan_amount=0\n",
    "    bank_emi_expected=0\n",
    "    #Start writing your code here\n",
    "    #Populate the variables: eligible_loan_amount and bank_emi_expected\n",
    "    flag=0\n",
    "    if(account_number>999 and account_number<2000 and account_balance>100000):\n",
    "        if(loan_type=='Car' and salary>25000):\n",
    "            if(loan_amount_expected<=500000 and customer_emi_expected<36):\n",
    "                eligible_loan_amount=500000\n",
    "                bank_emi_expected=36\n",
    "                flag = 1\n",
    "            else:\n",
    "                print(\"The customer is not eligible for the loan\")\n",
    "        elif(loan_type=='House' and salary>50000):\n",
    "            if(loan_amount_expected<=6000000 and customer_emi_expected<60):\n",
    "                eligible_loan_amount=6000000\n",
    "                bank_emi_expected=60\n",
    "                flag = 1\n",
    "            else:\n",
    "                print(\"The customer is not eligible for the loan\")\n",
    "        elif(loan_type=='Business' and salary>75000):\n",
    "            if(loan_amount_expected<=7500000 and customer_emi_expected<84):\n",
    "                eligible_loan_amount=7500000\n",
    "                bank_emi_expected=84\n",
    "                flag = 1\n",
    "            else:\n",
    "                print(\"The customer is not eligible for the loan\")\n",
    "        else:\n",
    "            print(\"Invalid loan type or salary\")\n",
    "    else:\n",
    "        if(account_number<=999 or account_number>=2000):\n",
    "            print(\"Invalid account number\")\n",
    "        else:\n",
    "            print(\"Insufficient account balance\")\n",
    "            \n",
    "    if(flag>0):\n",
    "        print(\"Account number:\", account_number)\n",
    "        print(\"The customer can avail the amount of Rs.\", eligible_loan_amount)\n",
    "        print(\"Eligible EMIs :\", bank_emi_expected)\n",
    "        print(\"Requested loan amount:\", loan_amount_expected)\n",
    "        print(\"Requested EMI's:\",customer_emi_expected)\n",
    "    else:\n",
    "        return -1\n",
    "    \n",
    "    #Use the below given print statements to display the output, in case of success\n",
    "    #print(\"Account number:\", account_number)\n",
    "    #print(\"The customer can avail the amount of Rs.\", eligible_loan_amount)\n",
    "    #print(\"Eligible EMIs :\", bank_emi_expected)\n",
    "    #print(\"Requested loan amount:\", loan_amount_expected)\n",
    "    #print(\"Requested EMI's:\",customer_emi_expected)\n",
    "\n",
    "    #Use the below given print statements to display the output, in case of invalid data.\n",
    "    #print(\"Insufficient account balance\")\n",
    "    #print(\"The customer is not eligible for the loan\")\n",
    "    #print(\"Invalid account number\")\n",
    "    #print(\"Invalid loan type or salary\")\n",
    "    #Also, do not modify the above print statements for verification to work\n",
    "    #customer_emi_expected-30,loan_amount_expected-300000,account_number-2005,loan_type-Car,account_balance-255000,salary-30000\n",
    "    #customer_emi_expected-60,account_number-1005,account_balance-255000,salary-55000,loan_type-House,loan_amount_expected-5500000\n",
    "\n",
    "#Test your code for different values and observe the results\n",
    "# calculate_loan(1001,40000,250000,\"Car\",300000,30)\n",
    "calculate_loan(1005,55000,255000,\"House\",5500000,60)"
   ]
  },
  {
   "cell_type": "code",
   "execution_count": 14,
   "metadata": {},
   "outputs": [
    {
     "name": "stdout",
     "output_type": "stream",
     "text": [
      "31 - 6 - 2015\n"
     ]
    },
    {
     "data": {
      "text/plain": [
       "-1"
      ]
     },
     "execution_count": 14,
     "metadata": {},
     "output_type": "execute_result"
    }
   ],
   "source": [
    "#PF-Tryout\n",
    "def generate_next_date(day,month,year):\n",
    "    #Start writing your code here\n",
    "    leap =False\n",
    "    next_day=day\n",
    "    next_month = month\n",
    "    next_year = year\n",
    "    if(day==31 and month==12):\n",
    "        print(1,\"-\",1,\"-\",next_year+1)\n",
    "        return -1\n",
    "    if(year%4==0 and year%100!=0):\n",
    "        leap = True\n",
    "    if(year%400==0):\n",
    "        leap = True\n",
    "    next_day = day + 1\n",
    "    mnths = []\n",
    "    if(leap):\n",
    "        mnths = [31,29,31,30,31,30,31,31,30,31,30,31]\n",
    "    else:\n",
    "        mnths = [31,28,31,30,31,30,31,31,30,31,30,31]\n",
    "    if(mnths[next_month]<next_day):\n",
    "        next_month +=1\n",
    "        next_day = 1\n",
    "    print(next_day,\"-\",next_month,\"-\",next_year)\n",
    "    return -1\n",
    "\n",
    "generate_next_date(30,6,2015)"
   ]
  },
  {
   "cell_type": "code",
   "execution_count": 15,
   "metadata": {},
   "outputs": [
    {
     "name": "stdout",
     "output_type": "stream",
     "text": [
      "25\n",
      "26\n",
      "27\n",
      "28\n"
     ]
    }
   ],
   "source": [
    "number=28\n",
    "for num in range(25,30):\n",
    "    if(number>num):\n",
    "        print(num)\n",
    "    else:\n",
    "        print(num)\n",
    "        break"
   ]
  },
  {
   "cell_type": "code",
   "execution_count": 16,
   "metadata": {},
   "outputs": [
    {
     "name": "stdout",
     "output_type": "stream",
     "text": [
      "45 50 90 "
     ]
    }
   ],
   "source": [
    "for num in 23, 45, 50, 65, 76, 90:\n",
    "    if(num%5!=0):\n",
    "        continue\n",
    "    if(num%10==0):\n",
    "        print(num, end=\" \")\n",
    "        continue\n",
    "    if(num%3==0):\n",
    "        print(num, end=\" \")"
   ]
  },
  {
   "cell_type": "code",
   "execution_count": 21,
   "metadata": {},
   "outputs": [
    {
     "name": "stdout",
     "output_type": "stream",
     "text": [
      "1A4B8C1A\n"
     ]
    }
   ],
   "source": [
    "#PF-Assgn-30\n",
    "def encode(message):\n",
    "    sum = 1\n",
    "    prev = ''\n",
    "    res = ''\n",
    "    for x in message:\n",
    "        if(x==prev):\n",
    "            sum += 1\n",
    "        else:\n",
    "            res += (str(sum)+prev)\n",
    "            sum = 1\n",
    "        prev = x\n",
    "    return res[1:]\n",
    "\n",
    "#Provide different values for message and test your program\n",
    "encoded_message=encode(\"ABBBBCCCCCCCCAB\")\n",
    "print(encoded_message)"
   ]
  },
  {
   "cell_type": "code",
   "execution_count": 4,
   "metadata": {},
   "outputs": [
    {
     "name": "stdout",
     "output_type": "stream",
     "text": [
      "[2004, 2008, 2012, 2016, 2020, 2024, 2028, 2032, 2036, 2040, 2044, 2048, 2052, 2056, 2060]\n"
     ]
    }
   ],
   "source": [
    "#Find next 15 leap years\n",
    "'''\n",
    "\n",
    "Problem Statement\n",
    "Starter Testcase\n",
    "Submission\n",
    "Write a Python program to generate the next 15 leap years starting from a given year. Populate the leap years into a list and display the list.\n",
    "Also write the pytest test cases to test the program.\n",
    "'''\n",
    "#PF-Assgn-22\n",
    "def isLeapYear(year):\n",
    "    if(year%4==0 and year%100!=0):\n",
    "        return True\n",
    "    if(year%4==0):\n",
    "        return True\n",
    "    return False\n",
    "\n",
    "def find_leap_years(given_year):\n",
    "    # Write your logic here\n",
    "    list_of_leap_years = []\n",
    "    while(len(list_of_leap_years)<15):\n",
    "        if(isLeapYear(given_year)):\n",
    "            list_of_leap_years.append(given_year)\n",
    "        given_year+=1\n",
    "    return list_of_leap_years\n",
    "\n",
    "list_of_leap_years=find_leap_years(2002)\n",
    "print(list_of_leap_years)"
   ]
  },
  {
   "cell_type": "code",
   "execution_count": 11,
   "metadata": {},
   "outputs": [
    {
     "name": "stdout",
     "output_type": "stream",
     "text": [
      "Amber\n",
      "Opal\n",
      "Topaz\n",
      "36781\n"
     ]
    }
   ],
   "source": [
    "#PF-Assgn-23\n",
    "'''\n",
    "ARS Gems Store sells different varieties of gems to its customers.\n",
    "\n",
    "Write a Python program to calculate the bill amount to be paid by a customer based on the list of gems and quantity purchased. Any purchase with a total bill amount above Rs.30000 is entitled for 5% discount. If any gem required by the customer is not available in the store, then consider total bill amount to be -1.\n",
    "\n",
    "Assume that quantity required by the customer for any gem will always be greater than 0\n",
    "'''\n",
    "\n",
    "def calculate_bill_amount(gems_list, price_list, reqd_gems, reqd_quantity):\n",
    "    bill_amount=0\n",
    "    #Write your logic here\n",
    "    try:\n",
    "        for i in range(len(reqd_gems)):\n",
    "            bill_amount += (price_list[gems_list.index(reqd_gems[i])] * reqd_quantity[i])\n",
    "        if(bill_amount>30000):\n",
    "            return bill_amount - bill_amount * 0.05\n",
    "        else:\n",
    "            return bill_amount\n",
    "    except Exception:\n",
    "        return -1\n",
    "\n",
    "#List of gems available in the store\n",
    "# gems_list=[\"Emerald\",\"Ivory\",\"Jasper\",\"Ruby\",\"Garnet\"]\n",
    "\n",
    "#Price of gems available in the store. gems_list and price_list have one-to-one correspondence\n",
    "# price_list=[1760,2119,1599,3920,3999]\n",
    "\n",
    "#List of gems required by the customer\n",
    "# reqd_gems=[\"Ivory\",\"Emerald\",\"Garnet\"]\n",
    "\n",
    "#Quantity of gems required by the customer. reqd_gems and reqd_quantity have one-to-one correspondence\n",
    "# reqd_quantity=[3,10,12]\n",
    "\n",
    "\n",
    "    \n",
    "reqd_quantity=[2, 1, 3]\n",
    "reqd_gems=['Amber', 'Opal', 'Topaz']\n",
    "\n",
    "gems_list=['Amber', 'Aquamarine', 'Opal', 'Topaz']\n",
    "price_list=[4392, 1342, 8734, 6421]\n",
    "\n",
    "bill_amount=calculate_bill_amount(gems_list, price_list, reqd_gems, reqd_quantity)\n",
    "print(bill_amount)"
   ]
  },
  {
   "cell_type": "code",
   "execution_count": 34,
   "metadata": {},
   "outputs": [
    {
     "data": {
      "text/plain": [
       "\"Triangle can't be formed\""
      ]
     },
     "execution_count": 34,
     "metadata": {},
     "output_type": "execute_result"
    }
   ],
   "source": [
    "#sides of triangle???\n",
    "'''\n",
    "Write a python function to check whether three given numbers can form the sides of a triangle.\n",
    "Hint\u000b",
    ": Three numbers can be the sides of a triangle if none of the numbers are greater than or equal to the sum of the other two numbers.\n",
    "\n",
    "Also write the pytest test cases to test the program.\n",
    "\n",
    "'''\n",
    "#PF-Assgn-24\n",
    "def form_triangle(num1,num2,num3):\n",
    "    #Do not change the messages provided below\n",
    "    success=\"Triangle can be formed\"\n",
    "    failure=\"Triangle can't be formed\"\n",
    "\n",
    "    #Write your logic here\n",
    "    sides = [num1,num2,num3]\n",
    "    sides.sort()\n",
    "    if(sides[2]>=(sides[1]+sides[0])):\n",
    "        return success    \n",
    "    else:\n",
    "        return failure\n",
    "    #Use the following messages to return the result wherever necessary\n",
    "\n",
    "#Provide different values for the variables, num1, num2, num3 and test your program\n",
    "num1=3\n",
    "num2=3\n",
    "num3=5\n",
    "form_triangle(num1, num2, num3)"
   ]
  },
  {
   "cell_type": "code",
   "execution_count": 35,
   "metadata": {},
   "outputs": [
    {
     "name": "stdout",
     "output_type": "stream",
     "text": [
      "*****\n",
      "****\n",
      "***\n",
      "**\n",
      "*\n"
     ]
    }
   ],
   "source": [
    "'''\n",
    "The program provided in the starter code tab is written to display “*” as per the expected output given below. \n",
    "But the code is having logical errors, debug the program using Eclipse Debugger and correct it.\n",
    "\n",
    "'''\n",
    "counter1=0\n",
    "counter2=5\n",
    "while(counter1 < 5):\n",
    "    star=\"\"\n",
    "    while(counter2>counter1):\n",
    "        star=star+ \"*\"\n",
    "        counter2-=1\n",
    "    print(star)\n",
    "    counter2=5\n",
    "    counter1+=1"
   ]
  },
  {
   "cell_type": "markdown",
   "metadata": {},
   "source": [
    "Write a python program to solve a classic ancient Chinese puzzle.\n",
    "\n",
    "We count 35 heads and 94 legs among the chickens and rabbits in a farm. How many rabbits and how many chickens do we have?\n",
    "\n",
    "Estimated time: 15 minutes\n",
    "\n",
    "- Sample Input\tExpected Output\n",
    "- heads-150 legs-400\t100 50\n",
    "- heads-3 legs-11\tNo solution\n",
    "- heads-3 legs-12\t0 3\n",
    "- heads-5 legs-10\t5 0"
   ]
  },
  {
   "cell_type": "code",
   "execution_count": 33,
   "metadata": {},
   "outputs": [
    {
     "name": "stdout",
     "output_type": "stream",
     "text": [
      "100 50\n"
     ]
    }
   ],
   "source": [
    "#PF-Assgn-26\n",
    "def solve(heads,legs):\n",
    "    error_msg=\"No solution\"\n",
    "    chicken_count=0\n",
    "    rabbit_count=0\n",
    "\n",
    "    #Start writing your code here\n",
    "    #Populate the variables: chicken_count and rabbit_count\n",
    "    if(legs%2!=0 or heads==0 or heads>legs):\n",
    "        print(error_msg)\n",
    "    else:  \n",
    "        rabbit_count = int((legs + (-2*heads))/2)\n",
    "        chicken_count = int(heads - rabbit_count)\n",
    "        print(chicken_count, rabbit_count)\n",
    "\n",
    "    # Use the below given print statements to display the output\n",
    "    # Also, do not modify them for verification to work\n",
    "\n",
    "    #print(chicken_count,rabbit_count)\n",
    "    #print(error_msg)\n",
    "\n",
    "#Provide different values for heads and legs and test your program\n",
    "solve(150,400)"
   ]
  },
  {
   "cell_type": "markdown",
   "metadata": {},
   "source": [
    "Write a program to create the following pattern:"
   ]
  },
  {
   "cell_type": "code",
   "execution_count": 38,
   "metadata": {},
   "outputs": [],
   "source": [
    "import turtle           # allows us to use the turtles library\n",
    "wn = turtle.Screen()    # creates a graphics window\n",
    "wn.setup(500,500)       # set window dimension\n",
    "\n",
    "alex = turtle.Turtle()  # create a turtle named alex\n",
    "alex.shape(\"turtle\")    # alex looks like a turtle\n",
    "\n",
    "'''\n",
    "alex.color(\"black\")    # alex has a color\n",
    "alex.right(60)         # alex turns 60 degrees right\n",
    "alex.left(60)          # alex turns 60 degrees left\n",
    "alex.circle(50)        # draws a circle of radius 50\n",
    "#draws circles\n",
    "for counter in range(1,3):\n",
    "    alex.circle(20*counter)\n",
    "'''\n",
    "\n",
    "#Write the logic to create the given pattern\n",
    "#Refer the statements given above to draw the pattern\n",
    "alex.color(\"green\")\n",
    "alex.circle(30)"
   ]
  },
  {
   "cell_type": "code",
   "execution_count": 40,
   "metadata": {},
   "outputs": [],
   "source": [
    "for x in [\"green\",\"blue\",\"red\"]:\n",
    "    alex.color(x)\n",
    "    alex.circle(50)\n",
    "    alex.circle(40)\n",
    "    alex.circle(30)\n",
    "    alex.circle(20)\n",
    "    alex.right(120)"
   ]
  },
  {
   "cell_type": "code",
   "execution_count": 3,
   "metadata": {},
   "outputs": [
    {
     "name": "stdout",
     "output_type": "stream",
     "text": [
      "Pediatrics\n"
     ]
    }
   ],
   "source": [
    "#PF-Assgn-32\n",
    "def max_visited_speciality(patient_medical_speciality_list,medical_speciality):\n",
    "    # write your logic here\n",
    "    speciality = ''\n",
    "    list1 = patient_medical_speciality_list[1::2]\n",
    "    max = 0\n",
    "    count = 0\n",
    "    for x in medical_speciality:\n",
    "        count = patient_medical_speciality_list.count(x)\n",
    "        if(count>max):\n",
    "            max = count\n",
    "            speciality = medical_speciality[x]\n",
    "    return speciality\n",
    "\n",
    "#provide different values in the list and test your program\n",
    "patient_medical_speciality_list=[301,'P',302, 'P' ,305, 'P' ,401, 'E' ,656, 'E']\n",
    "medical_speciality={\"P\":\"Pediatrics\",\"O\":\"Orthopedics\",\"E\":\"ENT\"}\n",
    "speciality=max_visited_speciality(patient_medical_speciality_list,medical_speciality)\n",
    "print(speciality)"
   ]
  },
  {
   "cell_type": "code",
   "execution_count": 15,
   "metadata": {},
   "outputs": [
    {
     "name": "stdout",
     "output_type": "stream",
     "text": [
      "Mot\n",
      "\n"
     ]
    }
   ],
   "source": [
    "'''\n",
    "Write a python program to display all the common characters between two strings. Return -1 if there are no matching characters.\n",
    "\n",
    "Note: Ignore blank spaces if there are any. Perform case sensitive string comparison wherever necessary.\n",
    "'''\n",
    "#PF-Assgn-33\n",
    "\n",
    "def find_common_characters(msg1,msg2):\n",
    "    common_characters = ''\n",
    "    for x in msg1:\n",
    "        if(x in msg2 and x !=' ' and x not in common_characters):\n",
    "            common_characters += x\n",
    "    if(common_characters!=''):\n",
    "        return common_characters\n",
    "    else:\n",
    "        return -1\n",
    "\n",
    "#Provide different values for msg1,msg2 and test your program\n",
    "msg1=\"I like Python\"\n",
    "msg2=\"Java is a very popular language\"\n",
    "msg1=\"Moto\"\n",
    "msg2=\"Moto\"\n",
    "print(find_common_characters(msg1,msg2))\n",
    "print(common_characters)"
   ]
  },
  {
   "cell_type": "code",
   "execution_count": 12,
   "metadata": {},
   "outputs": [
    {
     "data": {
      "text/plain": [
       "-1"
      ]
     },
     "execution_count": 12,
     "metadata": {},
     "output_type": "execute_result"
    }
   ],
   "source": []
  },
  {
   "cell_type": "code",
   "execution_count": 3,
   "metadata": {},
   "outputs": [
    {
     "name": "stdout",
     "output_type": "stream",
     "text": [
      "70.0\n",
      "[1, 1, 1, 2, 2, 1, 1, 1]\n",
      "[2, 5, 12, 18, 18, 20, 20, 21, 24, 25]\n"
     ]
    }
   ],
   "source": [
    "#PF-Assgn-35\n",
    "\n",
    "#Global variable\n",
    "list_of_marks=(12,18,25,24,2,5,18,20,20,21)\n",
    "\n",
    "def find_more_than_average():\n",
    "    res = []\n",
    "    avg = sum(list_of_marks)/len(list_of_marks)\n",
    "    for x in list_of_marks:\n",
    "        if(x>avg):\n",
    "            res.append(x)\n",
    "    return (len(res)/len(list_of_marks))*100\n",
    "\n",
    "def sort_marks():\n",
    "    return sorted(list_of_marks)\n",
    "\n",
    "def generate_frequency():\n",
    "    res=[]\n",
    "    for x in range(26):\n",
    "        if x in list_of_marks:\n",
    "            res.append(list_of_marks.count(x))\n",
    "    return res\n",
    "\n",
    "print(find_more_than_average())\n",
    "print(generate_frequency())\n",
    "print(sort_marks())"
   ]
  },
  {
   "cell_type": "code",
   "execution_count": 19,
   "metadata": {},
   "outputs": [
    {
     "name": "stdout",
     "output_type": "stream",
     "text": [
      "[[2, 7], [3, 6], [4, 5]]\n"
     ]
    }
   ],
   "source": [
    "#PF-Assgn-34\n",
    "def find_pairs_of_numbers(num_list,n):\n",
    "    pairs = []\n",
    "    for i in range(len(num_list)-1):\n",
    "        for j in range(i+1,len(num_list)):\n",
    "            if(i!=j):\n",
    "#                 print([num_list[i], num_list[j]])\n",
    "                if(n==(num_list[i] + num_list[j])):\n",
    "                    pairs.append([num_list[i],num_list[j]])\n",
    "                    continue\n",
    "    return pairs\n",
    "    \n",
    "num_list = [1, 2, 3, 7, 4, 5, 6, 0]\n",
    "n = 9\n",
    "print(find_pairs_of_numbers(num_list,n))"
   ]
  },
  {
   "cell_type": "code",
   "execution_count": 23,
   "metadata": {},
   "outputs": [
    {
     "name": "stdout",
     "output_type": "stream",
     "text": [
      "674523\n"
     ]
    }
   ],
   "source": [
    "#PF-Assgn-36\n",
    "def create_largest_number(number_list):\n",
    "    ln = ''\n",
    "    number_list.sort(reverse=True)\n",
    "    for x in number_list:\n",
    "        ln += str(x)\n",
    "    return int(ln)\n",
    "    \n",
    "number_list=[23,45,67]\n",
    "largest_number=create_largest_number(number_list)\n",
    "print(largest_number)"
   ]
  },
  {
   "cell_type": "code",
   "execution_count": 26,
   "metadata": {},
   "outputs": [
    {
     "name": "stdout",
     "output_type": "stream",
     "text": [
      "30\n",
      "[12, 7, 3, 4, 6]\n"
     ]
    }
   ],
   "source": [
    "#PF-Assgn-37\n",
    "\n",
    "#Global variables\n",
    "child_id=(10,20,30,40,50)\n",
    "chocolates_received=[12,5,3,4,6]\n",
    "\n",
    "def calculate_total_chocolates():\n",
    "    return sum(chocolates_received)\n",
    "\n",
    "def reward_child(child_id_rewarded,extra_chocolates):\n",
    "    if(child_id_rewarded in child_id):\n",
    "        index = child_id.index(child_id_rewarded)\n",
    "        if(extra_chocolates>=1):\n",
    "            chocolates_received[index] += extra_chocolates\n",
    "            print(chocolates_received)\n",
    "        else:\n",
    "            print(\"Extra chocolates is less than 1\")\n",
    "    else:\n",
    "        print(\"Child id is invalid\")\n",
    "\n",
    "    # Use the below given print statements to display the output\n",
    "    # Also, do not modify them for verification to work\n",
    "\n",
    "    #print(\"Extra chocolates is less than 1\")\n",
    "    #print(\"Child id is invalid\")\n",
    "    #print(chocolates_received)\n",
    "\n",
    "\n",
    "print(calculate_total_chocolates())\n",
    "#Test your code by passing different values for child_id_rewarded,extra_chocolates\n",
    "reward_child(20,2)"
   ]
  },
  {
   "cell_type": "code",
   "execution_count": 36,
   "metadata": {},
   "outputs": [
    {
     "name": "stdout",
     "output_type": "stream",
     "text": [
      "('Veg Roll', 'Noodles') (2, 2)\n",
      "<item name>is available\n",
      "<item name>is available\n",
      "('Soup', 'Veg Roll', 'Fried Rice1') (1, 2, 1)\n",
      "<item name>is available\n",
      "<item name>is available\n",
      "<item name>is not available\n"
     ]
    }
   ],
   "source": [
    "#PF-Assgn-39\n",
    "#This verification is based on string match.     \n",
    "\n",
    "\n",
    "'''This method accepts the item followed by the quantity required by a customer in the format item1, quantity_required, item2, quantity_required etc.'''\n",
    "def place_order(*item_tuple):\n",
    "    order_menu = item_tuple[::2]\n",
    "    order = item_tuple[1::2]\n",
    "    print(order_menu,order)\n",
    "    for i,item in enumerate(order_menu):\n",
    "        if(item not in menu):\n",
    "            print(\"<item name>is not available\")\n",
    "        else:\n",
    "            index = menu.index(item)\n",
    "            if(check_quantity_available(index,order[i])):\n",
    "                print(\"<item name>is available\")\n",
    "            else:\n",
    "                print(\"<item name>stock is over\")  \n",
    "                \n",
    "def check_quantity_available(index,quantity_requested):\n",
    "    if(quantity_requested<=quantity_available[index]):\n",
    "        return True\n",
    "    else:\n",
    "        return False\n",
    "\n",
    "\n",
    "#Global variables\n",
    "menu=('Veg Roll','Noodles','Fried Rice','Soup')\n",
    "quantity_available=[2,200,250,3]\n",
    "\n",
    "#Provide different values for items ordered and test your program\n",
    "place_order(\"Veg Roll\",2,\"Noodles\",2)\n",
    "place_order(\"Soup\",1,\"Veg Roll\", 2, \"Fried Rice1\",1)"
   ]
  },
  {
   "cell_type": "code",
   "execution_count": 55,
   "metadata": {},
   "outputs": [
    {
     "name": "stdout",
     "output_type": "stream",
     "text": [
      "True\n"
     ]
    }
   ],
   "source": [
    "#PF-Assgn-38\n",
    "\n",
    "def check_double(number):\n",
    "    double = ''.join(sorted(str(number*2)))\n",
    "    number = ''.join(sorted(str(number)))\n",
    "    if(len(number)>0 and \n",
    "            len(str(number))==len(double) \n",
    "                and (double==number)):\n",
    "        return True\n",
    "    else:\n",
    "        return False\n",
    "\n",
    "#Provide different values for number and test your program\n",
    "print(check_double(142857))"
   ]
  },
  {
   "cell_type": "markdown",
   "metadata": {},
   "source": [
    "A 10-substring of a number is a substring of its digits that sum up to 10.\n",
    "\n",
    "For example, the 10-substrings of the number 3523014 are:\n",
    "3523014, 3523014, 3523014, 3523014\n",
    "\n",
    "Write a python function, find_ten_substring(num_str) which accepts a string and returns the list of 10-substrings of that string.\n",
    "\n",
    "Handle the possible errors in the code written inside the function.\n",
    "\n",
    "Sample Input\tExpected Output\n",
    "'3523014'\t['5230', '23014', '523', '352']"
   ]
  },
  {
   "cell_type": "code",
   "execution_count": 53,
   "metadata": {},
   "outputs": [
    {
     "data": {
      "text/plain": [
       "142857"
      ]
     },
     "execution_count": 53,
     "metadata": {},
     "output_type": "execute_result"
    }
   ],
   "source": [
    "#PF-Assgn-41\n",
    "def find_ten_substring(num_str):\n",
    "    result_list = []\n",
    "    for i in range(len(num_str)-1):\n",
    "        sum = 0\n",
    "        for j in range(i,len(num_str)):\n",
    "            sum += int(num_str[j])\n",
    "            if(sum==10):\n",
    "                result_list.append(num_str[i:j+1])\n",
    "    return result_list\n",
    "\n",
    "num_str=\"2825302\"\n",
    "# num_str=\"3523014\"\n",
    "print(\"The number is:\",num_str)\n",
    "result_list=find_ten_substring(num_str)\n",
    "print(result_list)"
   ]
  },
  {
   "cell_type": "code",
   "execution_count": 18,
   "metadata": {},
   "outputs": [
    {
     "name": "stdout",
     "output_type": "stream",
     "text": [
      "The number is: 2825302\n",
      "['28', '82', '253', '2530', '5302']\n"
     ]
    }
   ],
   "source": [
    "#PF-Assgn-41\n",
    "def find_ten_substring(num_str):\n",
    "    m = []\n",
    "    l = []\n",
    "    \n",
    "    for i in range(0,len(num_str)-1):\n",
    "        for j in range(i,len(num_str)):\n",
    "            m.append(num_str[i:j+1])\n",
    "#             print(m)\n",
    "    for k in m:\n",
    "        sum=0\n",
    "        for x in k:\n",
    "            sum+=int(x)\n",
    "        if(sum==10):\n",
    "            l.append(k)\n",
    "            sum=0\n",
    "    return l\n",
    "    \n",
    "\n",
    "num_str=\"2825302\"\n",
    "# num_str=\"3523014\"\n",
    "print(\"The number is:\",num_str)\n",
    "result_list=find_ten_substring(num_str)\n",
    "print(result_list)\n",
    "\n",
    "\n"
   ]
  },
  {
   "cell_type": "markdown",
   "metadata": {},
   "source": [
    "The below function is written to check whether a given three digit number is an Armstrong number.\n",
    "\n",
    "Hint: An “Armstrong number” is an n-digit number that is equal to the sum of the nth powers of its individual digits.\n",
    "Example: 371 is an Armstrong number as 371 = 3^3 +7^3+ 1^3"
   ]
  },
  {
   "cell_type": "code",
   "execution_count": 53,
   "metadata": {},
   "outputs": [
    {
     "name": "stdout",
     "output_type": "stream",
     "text": [
      "1634 is an Armstrong number\n"
     ]
    }
   ],
   "source": [
    "def find_armstrong(number):\n",
    "    tempNumber = number\n",
    "    temp=0\n",
    "    while(number!=0):\n",
    "        remainder=number%10\n",
    "        number=int(number/10)\n",
    "        powNum = pow(remainder,len(str(tempNumber)))\n",
    "        temp=temp+powNum\n",
    "    if(tempNumber==temp):\n",
    "        return True\n",
    "    return False\n",
    "\n",
    "number=371\n",
    "number=1634\n",
    "if(find_armstrong(number)):\n",
    "    print(number,\"is an Armstrong number\")\n",
    "else:\n",
    "    print(number,\"is not an Armstrong number\")"
   ]
  },
  {
   "cell_type": "markdown",
   "metadata": {},
   "source": [
    "In a fair coin we have an equal chance (50%) of either getting a ‘head’ or ‘tail’.  That is if we toss the coin a large number of times we would observe head approximately 50% of the time. Write a program to implement a biased coin toss where the chance of getting a head is 70% (and tail 30%). That is if we invoke the program 1000 times we should see the head randomly approximately 700 times.\n"
   ]
  },
  {
   "cell_type": "code",
   "execution_count": 117,
   "metadata": {},
   "outputs": [
    {
     "data": {
      "text/plain": [
       "700"
      ]
     },
     "execution_count": 117,
     "metadata": {},
     "output_type": "execute_result"
    }
   ],
   "source": [
    "import random\n",
    "\n",
    "# def getProb(arr,times):\n",
    "#     list = []\n",
    "#     for x in range(times):\n",
    "#         if(random.randint(1,100)<=70):\n",
    "#             list.append(arr[0])\n",
    "#         else:\n",
    "#             list.append(arr[1])\n",
    "#     return list\n",
    "\n",
    "def getProb2(times):\n",
    "    list = []\n",
    "    arr= []*times  \n",
    "    center = int(times*0.7)\n",
    "    for x in range(times):\n",
    "        if(x<center):\n",
    "            arr.append('H')\n",
    "        else:\n",
    "            arr.append('T')\n",
    "            \n",
    "    l1 = arr[:center]\n",
    "    l2 = arr[center:]\n",
    "    \n",
    "    for x in range(times):\n",
    "        if(len(l1)>0 and len(l2)>0):\n",
    "            sel = random.randint(1,2)\n",
    "            if(sel==1):\n",
    "                list.append(l1.pop())\n",
    "            else:\n",
    "                list.append(l2.pop())\n",
    "        elif(len(l1)>0):\n",
    "            sel = l1\n",
    "            list.append(l1.pop())\n",
    "        elif(len(l2)>0):\n",
    "            sel = l2\n",
    "            list.append(l2.pop())\n",
    "        else:\n",
    "            print('both empty')\n",
    "            break\n",
    "    return list\n",
    "\n",
    "res = getProb2(1000)\n",
    "res.count('H')\n",
    "# print(res)"
   ]
  },
  {
   "cell_type": "code",
   "execution_count": 100,
   "metadata": {},
   "outputs": [
    {
     "name": "stdout",
     "output_type": "stream",
     "text": [
      "[1, 8, 8, 9]\n"
     ]
    }
   ],
   "source": [
    "a = [1,2,3,4,5,6,7,1,8,8,9]\n",
    "v = int(len(a)*0.7)\n",
    "print(a[v:])"
   ]
  },
  {
   "cell_type": "markdown",
   "metadata": {},
   "source": [
    "Assume that a poem is given. Write the regular expressions for the following:\n",
    "Print how many times the letter 'v' appears in the poem.\n",
    "Remove all the newlines from the poem and print the poem in a single line.\n",
    "If a word has 'ch' or 'co', replace it with 'Ch' or 'Co'.\n",
    "If the pattern has characters 'ai' or 'hi', replace the next three characters with *\\*.\n",
    "Test your code by using the given sample inputs.\n",
    "Verify your code by using the 2nd sample input(highlighted) given below:"
   ]
  },
  {
   "cell_type": "code",
   "execution_count": 144,
   "metadata": {},
   "outputs": [
    {
     "name": "stdout",
     "output_type": "stream",
     "text": [
      "4\n",
      "\n",
      "If I can stop one heart from breaking,I shall not live in vain;If I can ease one life the aching,Or cool one pain,Or help one fainting robinUnto his nest again,I shall not live in vain.\n",
      "\n",
      "If I can stop one heart from breaking,\n",
      "I shall not live in vain;\n",
      "If I can ease one life the aChing,\n",
      "Or Cool one pain,\n",
      "Or help one fainting robin\n",
      "Unto his nest again,\n",
      "I shall not live in vain.\n",
      "\n",
      "If I can stop one heart from breaking,\n",
      "I shall not live in vain;\n",
      "If I can ease one life the achin*\\*\n",
      "Or cool one pain,\n",
      "Or help one fain*\\*ng robin\n",
      "Unto his*\\*est again,\n",
      "I shall not live in vain.\n"
     ]
    }
   ],
   "source": [
    "#PF-Assgn-53\n",
    "#This verification is based on string match.\n",
    "import re\n",
    "poem='''\n",
    "If I can stop one heart from breaking,\n",
    "I shall not live in vain;\n",
    "If I can ease one life the aching,\n",
    "Or cool one pain,\n",
    "Or help one fainting robin\n",
    "Unto his nest again,\n",
    "I shall not live in vain.\n",
    "'''\n",
    "\n",
    "# poem='''\n",
    "# It takes strength for being certain,\n",
    "# It takes courage to have doubt.\n",
    "# It takes strength for challenging alone,\n",
    "# It takes courage to lean on another.\n",
    "# It takes strength for loving other souls,\n",
    "# It takes courage to be loved.\n",
    "# It takes strength for hiding our own pain,\n",
    "# It takes courage to help if it is paining for someone.\n",
    "# '''\n",
    "#Note: Triple quotes can be used to enclose Strings which has lines of text.\n",
    "\n",
    "#Write your logic here for question 1\n",
    "print(len(re.findall('v',poem)))\n",
    "\n",
    "print()\n",
    "print(re.sub('\\n','',poem).rstrip())\n",
    "\n",
    "def dashrepl(matchobj):\n",
    "#     print(matchobj.group(0))\n",
    "    return 'C'+matchobj.group(0)[1]\n",
    "\n",
    "print(re.sub(r\"c[h|o]\",dashrepl,poem).rstrip())\n",
    "\n",
    "def dashrepl2(matchobj):\n",
    "    # print(matchobj.group(0))\n",
    "    return matchobj.group(0)[:3] +'*\\*'\n",
    "\n",
    "newstr = ''\n",
    "for x in poem.split('\\n'):\n",
    "    newstr += re.sub(r\"[h|a]i.{3}\",dashrepl2,x) + '\\n'\n",
    "\n",
    "print(newstr.rstrip())"
   ]
  },
  {
   "cell_type": "code",
   "execution_count": 60,
   "metadata": {},
   "outputs": [
    {
     "name": "stdout",
     "output_type": "stream",
     "text": [
      "193\n",
      "193\n",
      "True\n"
     ]
    }
   ],
   "source": [
    "def dashrepl(matchobj):\n",
    "    return 'C'+matchobj.group(0)[1]\n",
    "a = re.sub(r\"c[h|o]\",dashrepl,poem)\n",
    "b = '''\n",
    "If I can stop one heart from breaking,\n",
    "I shall not live in vain;\n",
    "If I can ease one life the aChing,\n",
    "Or Cool one pain,\n",
    "Or help one fainting robin\n",
    "Unto his nest again,\n",
    "I shall not live in vain.\n",
    "'''\n",
    "print(len(a))\n",
    "print(len(b))\n",
    "print(a==b)"
   ]
  },
  {
   "cell_type": "code",
   "execution_count": 138,
   "metadata": {},
   "outputs": [
    {
     "name": "stdout",
     "output_type": "stream",
     "text": [
      "If I can stop one heart from breaking,\n",
      "I shall not live in vain;\n",
      "If I can ease one life the achi**\\*\n",
      "Or cool one pain,\n",
      "Or help one fai**\\*ng robin\n",
      "Unto hi**\\*est again,\n",
      "I shall not live in vain.\n",
      "If I can stop one heart from breaking,\n",
      "I shall not live in vain;\n",
      "If I can ease one life the achi*\\*\n",
      "Or cool one pain,\n",
      "Or help one fai*\\*ng robin\n",
      "Unto hi*\\*est again,\n",
      "I shall not live in vain.\n",
      "194\n",
      "191\n"
     ]
    },
    {
     "data": {
      "text/plain": [
       "False"
      ]
     },
     "execution_count": 138,
     "metadata": {},
     "output_type": "execute_result"
    }
   ],
   "source": [
    "def dashrepl2(matchobj):\n",
    "#     print(matchobj.group(0))\n",
    "    return matchobj.group(0)[:3] +'*\\*'\n",
    "\n",
    "x = re.sub(r\"[h|a]i[a-z\\s\\,]{3}\",dashrepl2,poem)\n",
    "y = '''\n",
    "If I can stop one heart from breaking,\n",
    "I shall not live in vain;\n",
    "If I can ease one life the achi*\\*\n",
    "Or cool one pain,\n",
    "Or help one fai*\\*ng robin\n",
    "Unto hi*\\*est again,\n",
    "I shall not live in vain.\n",
    "'''\n",
    "newstr = ''\n",
    "for x in y.split('\\n'):\n",
    "    newstr += re.sub(r\"[h|a]i.{3}\",dashrepl2,x) + '\\n'\n",
    "    \n",
    "newstr = newstr.strip()\n",
    "y = y.strip()\n",
    "print(newstr)\n",
    "print(y)\n",
    "print(len(newstr.strip()))\n",
    "print(len(y.strip()))\n",
    "newstr == y\n",
    "# print(x)\n",
    "# print(y)\n",
    "# print(len(x))\n",
    "# print(len(y))"
   ]
  },
  {
   "cell_type": "code",
   "execution_count": 119,
   "metadata": {},
   "outputs": [],
   "source": [
    "import difflib\n",
    "\n",
    "case_a = 'afrykbnerskojęzyczny'\n",
    "case_b = 'afrykanerskojęzycznym'\n",
    "\n",
    "output_list = [li for li in difflib.ndiff(newstr, y) if li[0] != ' ']"
   ]
  },
  {
   "cell_type": "code",
   "execution_count": 120,
   "metadata": {},
   "outputs": [
    {
     "data": {
      "text/plain": [
       "['- \\n']"
      ]
     },
     "execution_count": 120,
     "metadata": {},
     "output_type": "execute_result"
    }
   ],
   "source": [
    "output_list"
   ]
  },
  {
   "cell_type": "markdown",
   "metadata": {},
   "source": [
    "Write a recursive function, is_palindrome() to find out whether a string is a palindrome or not. The function should return true, if it is a palindrome. Else it should return false.\n",
    "\n",
    "Note- Perform case insensitive operations wherever necessary.\n",
    "\n",
    "Also write the pytest test cases to test the program."
   ]
  },
  {
   "cell_type": "code",
   "execution_count": 2,
   "metadata": {},
   "outputs": [],
   "source": [
    "def isPalRec(st, s, e):\n",
    "    if(s==e):\n",
    "        return True\n",
    "    if (st[s] != st[e]) : \n",
    "        return False  \n",
    "    if (s < e + 1) : \n",
    "        return isPalRec(st, s + 1, e - 1);\n",
    "\n",
    "def is_palindrome():\n",
    "    n = len(st) \n",
    "    if (n == 0) : \n",
    "        return True\n",
    "    return isPalRec(st, 0, n - 1);"
   ]
  },
  {
   "cell_type": "markdown",
   "metadata": {},
   "source": [
    "Given a number n, write a program to find the sum of the largest prime factors of each of nine consecutive numbers starting from n.\n",
    "g(n) = f(n) + f(n+1) + f(n+2) + f(n+3) + f(n+4) + f(n+5) + f(n+6) + f(n+7) + f(n+8)\n",
    "where, g(n) is the sum and f(n) is the largest prime factor of n\n",
    "\n",
    "For example,\n",
    "g(10)=f(10)+f(11)+f(12)+f(13)+f(14)+f(15)+f(16)+f(17)+f(18)\n",
    "        =5 + 11 + 3 + 13 + 7 + 5 + 2 + 17 + 3\n",
    "        =66"
   ]
  },
  {
   "cell_type": "code",
   "execution_count": 18,
   "metadata": {},
   "outputs": [
    {
     "name": "stdout",
     "output_type": "stream",
     "text": [
      "66\n"
     ]
    }
   ],
   "source": [
    "#PF-Assgn-42\n",
    "def find_factors(num):\n",
    "    #Accepts a number and returns the list of all the factors of a given number\n",
    "    factors = []\n",
    "    for i in range(2,(num+1)):\n",
    "        if(num%i==0):\n",
    "            factors.append(i)\n",
    "    return factors\n",
    "\n",
    "def is_prime(num, i):\n",
    "    #Accepts the number num and num/2 --> i and returns True if the number is prime ,else returns False\n",
    "    if(i==1):\n",
    "        return True\n",
    "    elif(num%i==0):\n",
    "        return False;\n",
    "    else:\n",
    "        return(is_prime(num,i-1))\n",
    "\n",
    "def find_largest_prime_factor(list_of_factors):\n",
    "    #Accepts the list of factors and returns the largest prime factor\n",
    "    list = []\n",
    "    for x in list_of_factors:\n",
    "        if is_prime(x,int(x/2)):\n",
    "            list.append(x)\n",
    "    return max(list)\n",
    "\n",
    "def find_f(num):\n",
    "    #Accepts the number and returns the largest prime factor of the number\n",
    "    list_of_factors = find_factors(num)\n",
    "    return find_largest_prime_factor(list_of_factors)\n",
    "\n",
    "def find_g(num):\n",
    "    #Accepts the number and returns the sum of the largest prime factors of the 9 consecutive numbers starting from the given number\n",
    "    sum = 0\n",
    "    for x in range(num,num+9):\n",
    "        sum += find_f(x)\n",
    "    return sum\n",
    "        \n",
    "#Note: Invoke function(s) from other function(s), wherever applicable.\n",
    "\n",
    "print(find_g(10))"
   ]
  },
  {
   "cell_type": "markdown",
   "metadata": {},
   "source": [
    "Write a python function find_smallest_number() which accepts a number n and returns the smallest number having n divisors.\n",
    "Handle the possible errors in the code written inside the function."
   ]
  },
  {
   "cell_type": "code",
   "execution_count": 19,
   "metadata": {},
   "outputs": [],
   "source": [
    "#PF-Assgn-43\n",
    "\n",
    "def find_smallest_number(num):\n",
    "    f=lambda n,k=1:n==sum(k%i<1for i in range(1,k+1))and k or f(n,k+1)\n",
    "    return f(num)\n",
    "\n",
    "num=16\n",
    "print(\"The number of divisors :\",num)\n",
    "result=find_smallest_number(num)\n",
    "print(\"The smallest number having\",num,\" divisors:\",result)"
   ]
  },
  {
   "cell_type": "markdown",
   "metadata": {},
   "source": [
    "Write a python function find_duplicates(), which accepts a list of numbers and returns another list containing all the duplicate values in the input list. If there are no duplicate values, it should return an empty list.\n",
    "\n",
    "Also write the pytest test cases to test the program.\n",
    ".."
   ]
  },
  {
   "cell_type": "code",
   "execution_count": 25,
   "metadata": {},
   "outputs": [
    {
     "name": "stdout",
     "output_type": "stream",
     "text": [
      "[12, 68]\n"
     ]
    }
   ],
   "source": [
    "#PF-Assgn-44\n",
    "\n",
    "def find_duplicates(list_of_numbers):\n",
    "    #start writing your code here\n",
    "    dups = []\n",
    "    for x in list_of_numbers:\n",
    "        if x not in dups and list_of_numbers.count(x)>1:\n",
    "                dups.append(x)\n",
    "    return dups\n",
    "\n",
    "list_of_numbers=[1,2,2,3,3,3,4,4,4,4]\n",
    "list_of_numbers=[12,54,68,759,24,15,12,68,987,758,25,69]\n",
    "list_of_duplicates=find_duplicates(list_of_numbers)\n",
    "print(list_of_duplicates)"
   ]
  },
  {
   "cell_type": "markdown",
   "metadata": {},
   "source": [
    "The below function is written to check whether a given three digit number is an Armstrong number.\n",
    "\n",
    "Hint: An “Armstrong number” is an n-digit number that is equal to the sum of the nth powers of its individual digits.\n",
    "Example: 371 is an Armstrong number as 371 = 3^3 +7^3+ 1^3\n",
    "\n",
    "But the function is having errors/bugs, debug the program using the Eclipse debugger and correct it.\n"
   ]
  },
  {
   "cell_type": "code",
   "execution_count": 36,
   "metadata": {},
   "outputs": [
    {
     "name": "stdout",
     "output_type": "stream",
     "text": [
      "4 0\n",
      "True\n"
     ]
    },
    {
     "ename": "TypeError",
     "evalue": "'str' object does not support item assignment",
     "output_type": "error",
     "traceback": [
      "\u001b[1;31m---------------------------------------------------------------------------\u001b[0m",
      "\u001b[1;31mTypeError\u001b[0m                                 Traceback (most recent call last)",
      "\u001b[1;32m<ipython-input-36-2525f4d362b5>\u001b[0m in \u001b[0;36m<module>\u001b[1;34m\u001b[0m\n\u001b[0;32m     15\u001b[0m     \u001b[1;32mreturn\u001b[0m \u001b[0mnumber\u001b[0m\u001b[1;33m\u001b[0m\u001b[1;33m\u001b[0m\u001b[0m\n\u001b[0;32m     16\u001b[0m \u001b[0mnumber\u001b[0m\u001b[1;33m=\u001b[0m\u001b[1;36m12300\u001b[0m\u001b[1;33m\u001b[0m\u001b[1;33m\u001b[0m\u001b[0m\n\u001b[1;32m---> 17\u001b[1;33m \u001b[0mprint\u001b[0m\u001b[1;33m(\u001b[0m\u001b[0mnearest_palindrome\u001b[0m\u001b[1;33m(\u001b[0m\u001b[0mnumber\u001b[0m\u001b[1;33m)\u001b[0m\u001b[1;33m)\u001b[0m\u001b[1;33m\u001b[0m\u001b[1;33m\u001b[0m\u001b[0m\n\u001b[0m\u001b[0;32m     18\u001b[0m \u001b[0mprint\u001b[0m\u001b[1;33m(\u001b[0m\u001b[0mnumber\u001b[0m\u001b[1;33m[\u001b[0m\u001b[0mlen\u001b[0m\u001b[1;33m(\u001b[0m\u001b[1;34m\"12300\"\u001b[0m\u001b[1;33m)\u001b[0m\u001b[1;33m-\u001b[0m\u001b[1;36m1\u001b[0m\u001b[1;33m]\u001b[0m\u001b[1;33m)\u001b[0m\u001b[1;33m\u001b[0m\u001b[1;33m\u001b[0m\u001b[0m\n",
      "\u001b[1;32m<ipython-input-36-2525f4d362b5>\u001b[0m in \u001b[0;36mnearest_palindrome\u001b[1;34m(number)\u001b[0m\n\u001b[0;32m     10\u001b[0m             \u001b[0mprint\u001b[0m\u001b[1;33m(\u001b[0m\u001b[0mnumber\u001b[0m\u001b[1;33m[\u001b[0m\u001b[0mi\u001b[0m\u001b[1;33m]\u001b[0m \u001b[1;33m!=\u001b[0m \u001b[0mnumber\u001b[0m\u001b[1;33m[\u001b[0m\u001b[0ml\u001b[0m\u001b[1;33m-\u001b[0m\u001b[0mi\u001b[0m\u001b[1;33m]\u001b[0m\u001b[1;33m)\u001b[0m\u001b[1;33m\u001b[0m\u001b[1;33m\u001b[0m\u001b[0m\n\u001b[0;32m     11\u001b[0m             \u001b[1;32mif\u001b[0m\u001b[1;33m(\u001b[0m\u001b[0mnumber\u001b[0m\u001b[1;33m[\u001b[0m\u001b[0mi\u001b[0m\u001b[1;33m]\u001b[0m \u001b[1;33m!=\u001b[0m \u001b[0mnumber\u001b[0m\u001b[1;33m[\u001b[0m\u001b[0ml\u001b[0m\u001b[1;33m-\u001b[0m\u001b[0mi\u001b[0m\u001b[1;33m]\u001b[0m\u001b[1;33m)\u001b[0m\u001b[1;33m:\u001b[0m\u001b[1;33m\u001b[0m\u001b[1;33m\u001b[0m\u001b[0m\n\u001b[1;32m---> 12\u001b[1;33m                 \u001b[0mnumber\u001b[0m\u001b[1;33m[\u001b[0m\u001b[0ml\u001b[0m\u001b[1;33m-\u001b[0m\u001b[0mi\u001b[0m\u001b[1;33m]\u001b[0m \u001b[1;33m=\u001b[0m \u001b[0mnumber\u001b[0m\u001b[1;33m[\u001b[0m\u001b[0mi\u001b[0m\u001b[1;33m]\u001b[0m\u001b[1;33m\u001b[0m\u001b[1;33m\u001b[0m\u001b[0m\n\u001b[0m\u001b[0;32m     13\u001b[0m             \u001b[1;32mif\u001b[0m\u001b[1;33m(\u001b[0m\u001b[0mnumber\u001b[0m \u001b[1;33m==\u001b[0m \u001b[0mnumber\u001b[0m\u001b[1;33m[\u001b[0m\u001b[1;33m:\u001b[0m\u001b[1;33m:\u001b[0m\u001b[1;33m-\u001b[0m\u001b[1;36m1\u001b[0m\u001b[1;33m]\u001b[0m\u001b[1;33m)\u001b[0m\u001b[1;33m:\u001b[0m\u001b[1;33m\u001b[0m\u001b[1;33m\u001b[0m\u001b[0m\n\u001b[0;32m     14\u001b[0m                 \u001b[1;32mreturn\u001b[0m \u001b[0mnumber\u001b[0m\u001b[1;33m\u001b[0m\u001b[1;33m\u001b[0m\u001b[0m\n",
      "\u001b[1;31mTypeError\u001b[0m: 'str' object does not support item assignment"
     ]
    }
   ],
   "source": [
    "#PF-Assgn-46\n",
    "\n",
    "def nearest_palindrome(number):\n",
    "    #start writitng your code here\n",
    "    number = str(number)\n",
    "    l = len(number)-1\n",
    "    for i in range(l+1):\n",
    "        if(i<l-i):\n",
    "            print(l,i)\n",
    "            print(number[i] != number[l-i])\n",
    "            if(number[i] != number[l-i]):\n",
    "                number[l-i] = number[i]\n",
    "            if(number == number[::-1]):\n",
    "                return number\n",
    "    return number\n",
    "number=12300\n",
    "print(nearest_palindrome(number))\n",
    "print(number[len(\"12300\")-1])"
   ]
  },
  {
   "cell_type": "markdown",
   "metadata": {},
   "source": [
    "Write a python function, encrypt_sentence() which accepts a message and encrypts it based on rules given below and returns the encrypted message.\u000b",
    "\n",
    "Words at odd position -> Reverse It\n",
    "Words at even position -> Rearrange the characters so that all consonants appear before the vowels and their order should not change"
   ]
  },
  {
   "cell_type": "code",
   "execution_count": 41,
   "metadata": {},
   "outputs": [
    {
     "name": "stdout",
     "output_type": "stream",
     "text": [
      "ehT snu sesir ni eht stea\n"
     ]
    }
   ],
   "source": [
    "#PF-Assgn-47\n",
    "def encrypt_sentence(sentence):\n",
    "    #start writing your code here\n",
    "    w = ''\n",
    "    line = []\n",
    "    for i,wrd in enumerate(sentence.split(' ')):\n",
    "        if(i%2==0):\n",
    "            w = wrd[::-1]\n",
    "        else:\n",
    "            cons = ''\n",
    "            vow = ''\n",
    "            for let in wrd:\n",
    "                if(let in ['a','e','i','o','u']):\n",
    "                    vow += let \n",
    "                else:\n",
    "                    cons += let\n",
    "            w = cons+vow\n",
    "        line.append(w)\n",
    "    return ' '.join(line) \n",
    "\n",
    "sentence=\"The sun rises in the east\"\n",
    "encrypted_sentence=encrypt_sentence(sentence)\n",
    "print(encrypted_sentence)"
   ]
  },
  {
   "cell_type": "markdown",
   "metadata": {},
   "source": [
    "Write a python function, find_correct() which accepts a dictionary and returns a list as per the rules mentioned below.\n",
    "The input dictionary will contain correct spelling of a word as key and the spelling provided by a contestant as the value.\n",
    "\n",
    "The function should identify the degree of correctness as mentioned below:\n",
    "CORRECT, if it is an exact match\u000b",
    "\n",
    "ALMOST CORRECT, if no more than 2 letters are wrong\n",
    "WRONG, if more than 2 letters are wrong or if length (correct spelling versus spelling given by contestant) mismatches.\n",
    "\n",
    "and return a list containing the number of CORRECT answers, number of ALMOST CORRECT answers and number of WRONG answers.\n",
    "Assume that the words contain only uppercase letters and the maximum word length is 10.\u000b"
   ]
  },
  {
   "cell_type": "code",
   "execution_count": 54,
   "metadata": {},
   "outputs": [
    {
     "name": "stdout",
     "output_type": "stream",
     "text": [
      "[2, 2, 1]\n"
     ]
    }
   ],
   "source": [
    "#PF-Assgn-48\n",
    "\n",
    "def find_correct(word_dict):\n",
    "    l = [0]*3\n",
    "    for key in word_dict.keys():\n",
    "        cnt = 0\n",
    "        for x in range(len(key)):\n",
    "            if(word_dict[key][x] != key[x]):\n",
    "                cnt+=1\n",
    "        if(cnt==0):\n",
    "            l[0] += 1\n",
    "        elif(cnt>0 and cnt<=2):\n",
    "            l[1] += 1\n",
    "        else:\n",
    "            l[2] += 1\n",
    "    return l\n",
    "\n",
    "word_dict={\"THEIR\": \"THEIR\",\"BUSINESS\":\"BISINESS\",\"WINDOWS\":\"WINDMILL\",\"WERE\":\"WEAR\",\"SAMPLE\":\"SAMPLE\"}\n",
    "print(find_correct(word_dict))"
   ]
  },
  {
   "cell_type": "code",
   "execution_count": 50,
   "metadata": {},
   "outputs": [
    {
     "name": "stdout",
     "output_type": "stream",
     "text": [
      "THEIR\n",
      "BISINESS\n",
      "WINDMILL\n",
      "WEAR\n",
      "SAMPLE\n"
     ]
    }
   ],
   "source": []
  },
  {
   "cell_type": "code",
   "execution_count": null,
   "metadata": {},
   "outputs": [],
   "source": []
  }
 ],
 "metadata": {
  "kernelspec": {
   "display_name": "Python 3",
   "language": "python",
   "name": "python3"
  },
  "language_info": {
   "codemirror_mode": {
    "name": "ipython",
    "version": 3
   },
   "file_extension": ".py",
   "mimetype": "text/x-python",
   "name": "python",
   "nbconvert_exporter": "python",
   "pygments_lexer": "ipython3",
   "version": "3.7.3"
  }
 },
 "nbformat": 4,
 "nbformat_minor": 4
}
